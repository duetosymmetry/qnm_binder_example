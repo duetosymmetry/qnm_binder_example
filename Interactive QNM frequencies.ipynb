{
 "cells": [
  {
   "cell_type": "markdown",
   "id": "980a0bdf",
   "metadata": {},
   "source": [
    "# Setup"
   ]
  },
  {
   "cell_type": "code",
   "execution_count": 1,
   "id": "1d45f724",
   "metadata": {},
   "outputs": [],
   "source": [
    "import qnm"
   ]
  },
  {
   "cell_type": "code",
   "execution_count": 2,
   "id": "c3ebd7bf",
   "metadata": {},
   "outputs": [
    {
     "name": "stdout",
     "output_type": "stream",
     "text": [
      "Destination path /Users/leo/.qnm/data-0.4.0.tar.bz2 already exists, use overwrite=True to force an overwrite.\n"
     ]
    }
   ],
   "source": [
    "qnm.download_data()"
   ]
  },
  {
   "cell_type": "code",
   "execution_count": 3,
   "id": "cd836045",
   "metadata": {},
   "outputs": [],
   "source": [
    "import numpy as np\n",
    "import matplotlib as mpl\n",
    "import matplotlib.pyplot as plt\n",
    "from ipywidgets import interact, fixed, FloatSlider\n",
    "mpl.rcParams.update({'font.size': 18, 'font.family': 'STIXGeneral',\n",
    "                     'mathtext.fontset': 'stix', 'text.usetex': False})"
   ]
  },
  {
   "cell_type": "markdown",
   "id": "7b83c05c",
   "metadata": {},
   "source": [
    "# Interactive plot"
   ]
  },
  {
   "cell_type": "code",
   "execution_count": 4,
   "id": "ee0e13fd",
   "metadata": {},
   "outputs": [],
   "source": [
    "def plot_a(a, l_max=6, n_max=4):\n",
    "    mode_labels = [(-2, l, m, n) for l in np.arange(2, l_max)\n",
    "                   for m in np.arange(-l,l+1)\n",
    "                   for n in np.arange(0, n_max)]\n",
    "    mode_seqs = [ qnm.modes_cache(*mode_label)\n",
    "                  for mode_label in mode_labels]\n",
    "    omegas = [mode_seq(a, interp_only=True)[0] for mode_seq in mode_seqs]\n",
    "    ms = [mode_label[2] for mode_label in mode_labels]\n",
    "    plt.scatter(np.real(omegas), np.imag(omegas), c=ms)\n",
    "    plt.xlabel(r'Re[$\\omega$]')\n",
    "    plt.ylabel(r'Im[$\\omega$]')\n",
    "    plt.title(f'a={a:.3f}')\n",
    "    plt.xlim((0., 2.))\n",
    "    plt.ylim((-1., 0.))\n",
    "    plt.gca().invert_yaxis()\n",
    "    plt.show()"
   ]
  },
  {
   "cell_type": "code",
   "execution_count": 5,
   "id": "7fdfb794",
   "metadata": {},
   "outputs": [
    {
     "data": {
      "application/vnd.jupyter.widget-view+json": {
       "model_id": "f92217fcfef9479db9cc9971dfbf2c2a",
       "version_major": 2,
       "version_minor": 0
      },
      "text/plain": [
       "interactive(children=(FloatSlider(value=0.1, description='a', max=0.998, step=0.001), Output()), _dom_classes=…"
      ]
     },
     "metadata": {},
     "output_type": "display_data"
    }
   ],
   "source": [
    "interact(plot_a, a=FloatSlider(value=.1, min=.0, max=.998, step=.001),\n",
    "                 l_max=fixed(6), n_max=fixed(5));"
   ]
  }
 ],
 "metadata": {
  "kernelspec": {
   "display_name": "Python 3",
   "language": "python",
   "name": "python3"
  },
  "language_info": {
   "codemirror_mode": {
    "name": "ipython",
    "version": 3
   },
   "file_extension": ".py",
   "mimetype": "text/x-python",
   "name": "python",
   "nbconvert_exporter": "python",
   "pygments_lexer": "ipython3",
   "version": "3.7.6"
  }
 },
 "nbformat": 4,
 "nbformat_minor": 5
}
