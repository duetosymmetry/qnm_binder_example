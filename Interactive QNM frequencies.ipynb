{
 "cells": [
  {
   "cell_type": "markdown",
   "id": "980a0bdf",
   "metadata": {},
   "source": [
    "# Setup"
   ]
  },
  {
   "cell_type": "code",
   "execution_count": 1,
   "id": "1d45f724",
   "metadata": {},
   "outputs": [],
   "source": [
    "import qnm"
   ]
  },
  {
   "cell_type": "code",
   "execution_count": 2,
   "id": "c3ebd7bf",
   "metadata": {},
   "outputs": [
    {
     "name": "stdout",
     "output_type": "stream",
     "text": [
      "Destination path /Users/leo/.qnm/data-0.4.0.tar.bz2 already exists, use overwrite=True to force an overwrite.\n"
     ]
    }
   ],
   "source": [
    "qnm.download_data()"
   ]
  },
  {
   "cell_type": "code",
   "execution_count": 3,
   "id": "cd836045",
   "metadata": {},
   "outputs": [],
   "source": [
    "import numpy as np\n",
    "import matplotlib as mpl\n",
    "import matplotlib.pyplot as plt\n",
    "from ipywidgets import interact, fixed, FloatSlider\n",
    "mpl.rcParams.update({'font.size': 18, 'font.family': 'STIXGeneral',\n",
    "                     'mathtext.fontset': 'stix', 'text.usetex': False})"
   ]
  },
  {
   "cell_type": "markdown",
   "id": "7b83c05c",
   "metadata": {},
   "source": [
    "# Interactive plot"
   ]
  },
  {
   "cell_type": "code",
   "execution_count": 4,
   "id": "ee0e13fd",
   "metadata": {},
   "outputs": [],
   "source": [
    "def plot_a(a, l_max=6, n_max=4):\n",
    "    mode_labels = [(-2, l, m, n) for l in np.arange(2, l_max)\n",
    "                   for m in np.arange(-l,l+1)\n",
    "                   for n in np.arange(0, n_max)]\n",
    "    mode_seqs = [ qnm.modes_cache(*mode_label)\n",
    "                  for mode_label in mode_labels]\n",
    "    omegas = [mode_seq(a, interp_only=True)[0] for mode_seq in mode_seqs]\n",
    "    ms = [mode_label[2] for mode_label in mode_labels]\n",
    "    plt.scatter(np.real(omegas), np.imag(omegas), c=ms)\n",
    "    plt.xlabel(r'Re[$\\omega$]')\n",
    "    plt.ylabel(r'Im[$\\omega$]')\n",
    "    plt.title(f'a/M = {a:.3f}')\n",
    "    plt.xlim((0., 2.))\n",
    "    plt.ylim((-1., 0.))\n",
    "    plt.gca().invert_yaxis()\n",
    "    plt.show()"
   ]
  },
  {
   "cell_type": "code",
   "execution_count": 5,
   "id": "7fdfb794",
   "metadata": {},
   "outputs": [
    {
     "data": {
      "application/vnd.jupyter.widget-view+json": {
       "model_id": "d1d40e6cd27d4c579df9c59069d3dfa5",
       "version_major": 2,
       "version_minor": 0
      },
      "text/plain": [
       "interactive(children=(FloatSlider(value=0.1, description='a/M', max=0.998, step=0.001), Output()), _dom_classe…"
      ]
     },
     "metadata": {},
     "output_type": "display_data"
    }
   ],
   "source": [
    "interact(plot_a, a=FloatSlider(value=.1, min=.0, max=.998, step=.001, description=\"a/M\"),\n",
    "                 l_max=fixed(6), n_max=fixed(5));"
   ]
  },
  {
   "cell_type": "markdown",
   "id": "326e12de",
   "metadata": {},
   "source": [
    "Above we see the complex $\\omega$ plane, where Kerr quasinormal frequencies live.  As you drag the horizontal slider, the value of the dimensionless black hole spin $0 \\le a/M < 1$ will change, and you can see how the QNM frequencies change in response.\n",
    "\n",
    "At small $a$, we see families of QNMs clustered around their Schwarzschild values.  The horizontal direction is determined by angular harmonic number $\\ell$, and the vertical direction is determined by overtone number $n$.  Within each cluster, there are $2\\ell + 1$ modes labeled by $m$, taking on values $-\\ell \\le m \\le +\\ell$.\n",
    "\n",
    "From left to right, the \"columns\" are $\\ell=2, 3, 4, 5$.  From bottom to top, the \"rows\" are $n=0, 1, \\ldots 4$. You can change which ones are plotted by changing the values of `l_max` and `n_max` in the cell above.\n",
    "\n",
    "Within each cluster, there is a small 'splitting' (reminiscent of Zeeman splitting) that depends on the azimuthal number $m$ and the spin of the black hole.  Each point is colored by its value of $m$.  Notice that the larger values of $m$ are further to the right in the complex plane.\n",
    "\n",
    "As the spin $a$ increases, these simple patterns fail.  Many modes approach the real axis (becoming zero-damped modes) as spin approaches extremal.\n",
    "\n",
    "Note that this figure only plots _half_ of the QNM solutions' frequencies.  There is another set of \"mirror\" modes with $\\omega' = -\\omega^*$ in the left half-plane, which we do not plot.  It is important not to confuse the sign of $\\Re[\\omega]$ with the importance of the mode.  The most important modes are _prograde_, which (for $m\\neq 0$) satisfy $\\text{sign}(m) = \\text{sign}(\\Re[\\omega])$.  These are the $m>0$ modes that are plotted above, and the $m<0$ modes that are in the left half-plane, which are omitted.  The $m=0$ modes can not be labeled as prograde or retrograde, and both signs of $\\Re[\\omega]$ are necessary."
   ]
  },
  {
   "cell_type": "code",
   "execution_count": null,
   "id": "af9dd8d5",
   "metadata": {},
   "outputs": [],
   "source": []
  }
 ],
 "metadata": {
  "kernelspec": {
   "display_name": "Python 3",
   "language": "python",
   "name": "python3"
  },
  "language_info": {
   "codemirror_mode": {
    "name": "ipython",
    "version": 3
   },
   "file_extension": ".py",
   "mimetype": "text/x-python",
   "name": "python",
   "nbconvert_exporter": "python",
   "pygments_lexer": "ipython3",
   "version": "3.7.6"
  }
 },
 "nbformat": 4,
 "nbformat_minor": 5
}
